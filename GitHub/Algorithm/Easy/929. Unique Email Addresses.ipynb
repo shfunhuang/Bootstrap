{
 "cells": [
  {
   "cell_type": "code",
   "execution_count": 2,
   "metadata": {},
   "outputs": [
    {
     "name": "stdout",
     "output_type": "stream",
     "text": [
      "https://leetcode.com/problems/unique-email-addresses/description/\n"
     ]
    }
   ],
   "source": [
    "print 'https://leetcode.com/problems/unique-email-addresses/description/'"
   ]
  },
  {
   "cell_type": "markdown",
   "metadata": {},
   "source": [
    "If you add periods ('.') between some characters in the local name part of an email address, mail sent there will be forwarded to the same address without dots in the local name.  For example, \"alice.z@leetcode.com\" and \"alicez@leetcode.com\" forward to the same email address.  (Note that this rule does not apply for domain names.)\n",
    "\n",
    "If you add a plus ('+') in the local name, everything after the first plus sign will be ignored. This allows certain emails to be filtered, for example m.y+name@email.com will be forwarded to my@email.com.  (Again, this rule does not apply for domain names.)\n",
    "\n",
    "It is possible to use both of these rules at the same time."
   ]
  },
  {
   "cell_type": "code",
   "execution_count": 3,
   "metadata": {},
   "outputs": [
    {
     "name": "stdout",
     "output_type": "stream",
     "text": [
      "['test.email+alex@leetcode.com', 'test.e.mail+bob.cathy@leetcode.com', 'testemail+david@lee.tcode.com']\n"
     ]
    }
   ],
   "source": [
    "import re\n",
    "emails = [\"test.email+alex@leetcode.com\",\"test.e.mail+bob.cathy@leetcode.com\",\"testemail+david@lee.tcode.com\"]\n",
    "print emails"
   ]
  },
  {
   "cell_type": "code",
   "execution_count": 7,
   "metadata": {},
   "outputs": [
    {
     "name": "stdout",
     "output_type": "stream",
     "text": [
      "['test.email+alex', 'test.e.mail+bob.cathy', 'testemail+david']\n",
      "['testemail', 'testemail', 'testemail']\n"
     ]
    }
   ],
   "source": [
    "local_name = [i[0] for i in dict(enumerate(map(lambda x:x.split('@'), emails))).values()] #local name\n",
    "print local_name\n",
    "local_name = map(lambda x:re.split('\\+', x)[0].replace('.', ''), local_name)\n",
    "print local_name"
   ]
  },
  {
   "cell_type": "code",
   "execution_count": 9,
   "metadata": {},
   "outputs": [
    {
     "name": "stdout",
     "output_type": "stream",
     "text": [
      "['leetcode.com', 'leetcode.com', 'lee.tcode.com']\n"
     ]
    }
   ],
   "source": [
    "domain_name = [i[1] for i in dict(enumerate(map(lambda x:x.split('@'), emails))).values()] #local name\n",
    "print domain_name"
   ]
  },
  {
   "cell_type": "code",
   "execution_count": 10,
   "metadata": {},
   "outputs": [
    {
     "name": "stdout",
     "output_type": "stream",
     "text": [
      "set([('testemail', 'leetcode.com'), ('testemail', 'lee.tcode.com')])\n"
     ]
    }
   ],
   "source": [
    "email_s = set(zip(local_name, domain_name))\n",
    "print email_s"
   ]
  },
  {
   "cell_type": "code",
   "execution_count": 11,
   "metadata": {},
   "outputs": [
    {
     "data": {
      "text/plain": [
       "['testemail@leetcode.com', 'testemail@lee.tcode.com']"
      ]
     },
     "execution_count": 11,
     "metadata": {},
     "output_type": "execute_result"
    }
   ],
   "source": [
    "['@'.join(i) for i in email_s]"
   ]
  },
  {
   "cell_type": "code",
   "execution_count": 12,
   "metadata": {},
   "outputs": [],
   "source": [
    "class Solution(object):\n",
    "    def numUniqueEmails(self, emails):\n",
    "        \"\"\"\n",
    "        :type emails: List[str]\n",
    "        :rtype: int\n",
    "        \"\"\"\n",
    "        import re\n",
    "        #emails = [\"test.email+alex@leetcode.com\",\"test.e.mail+bob.cathy@leetcode.com\",\"testemail+david@lee.tcode.com\"]\n",
    "        #print emails\n",
    "        \n",
    "        local_name = [i[0] for i in dict(enumerate(map(lambda x:x.split('@'), emails))).values()] #local name\n",
    "        #print local_name\n",
    "        local_name = map(lambda x:re.split('\\+', x)[0].replace('.', ''), local_name)\n",
    "        #print local_name        \n",
    "\n",
    "        domain_name = [i[1] for i in dict(enumerate(map(lambda x:x.split('@'), emails))).values()] #local name\n",
    "        #print domain_name\n",
    "        \n",
    "        email_s = set(zip(local_name, domain_name))\n",
    "        #print email_s  \n",
    "        return ['@'.join(i) for i in email_s] "
   ]
  },
  {
   "cell_type": "code",
   "execution_count": 13,
   "metadata": {},
   "outputs": [
    {
     "data": {
      "text/plain": [
       "['testemail@leetcode.com', 'testemail@lee.tcode.com']"
      ]
     },
     "execution_count": 13,
     "metadata": {},
     "output_type": "execute_result"
    }
   ],
   "source": [
    "s = Solution()\n",
    "emails = [\"test.email+alex@leetcode.com\",\"test.e.mail+bob.cathy@leetcode.com\",\"testemail+david@lee.tcode.com\"]\n",
    "s.numUniqueEmails(emails)"
   ]
  },
  {
   "cell_type": "code",
   "execution_count": null,
   "metadata": {},
   "outputs": [],
   "source": []
  }
 ],
 "metadata": {
  "kernelspec": {
   "display_name": "Python 2",
   "language": "python",
   "name": "python2"
  },
  "language_info": {
   "codemirror_mode": {
    "name": "ipython",
    "version": 2
   },
   "file_extension": ".py",
   "mimetype": "text/x-python",
   "name": "python",
   "nbconvert_exporter": "python",
   "pygments_lexer": "ipython2",
   "version": "2.7.15"
  }
 },
 "nbformat": 4,
 "nbformat_minor": 2
}

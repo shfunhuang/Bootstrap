{
 "cells": [
  {
   "cell_type": "code",
   "execution_count": 1,
   "metadata": {},
   "outputs": [
    {
     "name": "stdout",
     "output_type": "stream",
     "text": [
      "https://leetcode.com/problems/merge-two-binary-trees/\n"
     ]
    }
   ],
   "source": [
    "print 'https://leetcode.com/problems/merge-two-binary-trees/'"
   ]
  },
  {
   "cell_type": "code",
   "execution_count": 2,
   "metadata": {},
   "outputs": [
    {
     "name": "stdout",
     "output_type": "stream",
     "text": [
      "http://interactivepython.org/runestone/static/pythonds/Trees/SearchTreeImplementation.html\n"
     ]
    }
   ],
   "source": [
    "print 'http://interactivepython.org/runestone/static/pythonds/Trees/SearchTreeImplementation.html'"
   ]
  },
  {
   "cell_type": "markdown",
   "metadata": {},
   "source": [
    "### anytree example"
   ]
  },
  {
   "cell_type": "code",
   "execution_count": 3,
   "metadata": {},
   "outputs": [
    {
     "name": "stdout",
     "output_type": "stream",
     "text": [
      "https://anytree.readthedocs.io/en/latest/intro.html\n"
     ]
    }
   ],
   "source": [
    "print 'https://anytree.readthedocs.io/en/latest/intro.html'"
   ]
  },
  {
   "cell_type": "code",
   "execution_count": 2,
   "metadata": {},
   "outputs": [
    {
     "name": "stdout",
     "output_type": "stream",
     "text": [
      "Node('/Udo')\n",
      "Node('/Marc')\n",
      "└── Node('/Marc/Lian')\n"
     ]
    }
   ],
   "source": [
    "#Basics\n",
    "from anytree import Node, RenderTree\n",
    "udo = Node(\"Udo\")\n",
    "marc = Node(\"Marc\")\n",
    "lian = Node(\"Lian\", parent=marc)\n",
    "print(RenderTree(udo))\n",
    "Node('/Udo')\n",
    "print(RenderTree(marc))"
   ]
  },
  {
   "cell_type": "code",
   "execution_count": 3,
   "metadata": {},
   "outputs": [
    {
     "data": {
      "text/plain": [
       "()"
      ]
     },
     "execution_count": 3,
     "metadata": {},
     "output_type": "execute_result"
    }
   ],
   "source": [
    "udo.children"
   ]
  },
  {
   "cell_type": "code",
   "execution_count": 4,
   "metadata": {},
   "outputs": [
    {
     "name": "stdout",
     "output_type": "stream",
     "text": [
      "Node('/Udo')\n",
      "└── Node('/Udo/Marc')\n",
      "    └── Node('/Udo/Marc/Lian')\n"
     ]
    }
   ],
   "source": [
    "#Single Node Attach\n",
    "marc.parent = udo\n",
    "print(RenderTree(udo))"
   ]
  },
  {
   "cell_type": "code",
   "execution_count": 5,
   "metadata": {},
   "outputs": [
    {
     "data": {
      "text/plain": [
       "False"
      ]
     },
     "execution_count": 5,
     "metadata": {},
     "output_type": "execute_result"
    }
   ],
   "source": [
    "#Single Node Detach\n",
    "marc.is_root"
   ]
  },
  {
   "cell_type": "code",
   "execution_count": 6,
   "metadata": {},
   "outputs": [
    {
     "data": {
      "text/plain": [
       "True"
      ]
     },
     "execution_count": 6,
     "metadata": {},
     "output_type": "execute_result"
    }
   ],
   "source": [
    "marc.parent = None\n",
    "marc.is_root"
   ]
  },
  {
   "cell_type": "code",
   "execution_count": 7,
   "metadata": {},
   "outputs": [
    {
     "data": {
      "text/plain": [
       "(Node('/n/a'), Node('/n/b'), Node('/n/c'))"
      ]
     },
     "execution_count": 7,
     "metadata": {},
     "output_type": "execute_result"
    }
   ],
   "source": [
    "#Modify Multiple Child Nodes\n",
    "n = Node(\"n\")\n",
    "a = Node(\"a\", parent=n)\n",
    "b = Node(\"b\", parent=n)\n",
    "c = Node(\"c\", parent=n)\n",
    "d = Node(\"d\")\n",
    "n.children"
   ]
  },
  {
   "cell_type": "code",
   "execution_count": 8,
   "metadata": {},
   "outputs": [
    {
     "data": {
      "text/plain": [
       "(Node('/n/a'), Node('/n/b'))"
      ]
     },
     "execution_count": 8,
     "metadata": {},
     "output_type": "execute_result"
    }
   ],
   "source": [
    "n.children = [a, b]\n",
    "n.children"
   ]
  },
  {
   "cell_type": "code",
   "execution_count": 9,
   "metadata": {},
   "outputs": [
    {
     "data": {
      "text/plain": [
       "Node('/c')"
      ]
     },
     "execution_count": 9,
     "metadata": {},
     "output_type": "execute_result"
    }
   ],
   "source": [
    "#the node c does not vanish and is the root of its own tree.\n",
    "c"
   ]
  },
  {
   "cell_type": "code",
   "execution_count": 10,
   "metadata": {},
   "outputs": [
    {
     "data": {
      "text/plain": [
       "Node('/d')"
      ]
     },
     "execution_count": 10,
     "metadata": {},
     "output_type": "execute_result"
    }
   ],
   "source": [
    "#Adding works likewise.\n",
    "d = Node(\"d\")\n",
    "d"
   ]
  },
  {
   "cell_type": "code",
   "execution_count": 11,
   "metadata": {},
   "outputs": [
    {
     "data": {
      "text/plain": [
       "(Node('/n/a'), Node('/n/b'), Node('/n/d'))"
      ]
     },
     "execution_count": 11,
     "metadata": {},
     "output_type": "execute_result"
    }
   ],
   "source": [
    "n.children = [a, b, d]\n",
    "n.children"
   ]
  },
  {
   "cell_type": "code",
   "execution_count": 12,
   "metadata": {},
   "outputs": [
    {
     "data": {
      "text/plain": [
       "Node('/n/d')"
      ]
     },
     "execution_count": 12,
     "metadata": {},
     "output_type": "execute_result"
    }
   ],
   "source": [
    "d"
   ]
  },
  {
   "cell_type": "code",
   "execution_count": 13,
   "metadata": {},
   "outputs": [],
   "source": [
    "#Detach/Attach Protocol 分離/附加協議\n",
    "class NotifiedNode(Node):\n",
    "    def _pre_detach(self, parent):\n",
    "        print(\"_pre_detach\", parent)\n",
    "    def _post_detach(self, parent):\n",
    "        print(\"_post_detach\", parent)\n",
    "    def _pre_attach(self, parent):\n",
    "        print(\"_pre_attach\", parent)\n",
    "    def _post_attach(self, parent):\n",
    "        print(\"_post_attach\", parent)\n"
   ]
  },
  {
   "cell_type": "code",
   "execution_count": 28,
   "metadata": {},
   "outputs": [
    {
     "name": "stdout",
     "output_type": "stream",
     "text": [
      "('_pre_attach', NotifiedNode('/a'))\n",
      "('_post_attach', NotifiedNode('/a'))\n"
     ]
    }
   ],
   "source": [
    "a = NotifiedNode(\"a\")\n",
    "b = NotifiedNode(\"b\")\n",
    "c = NotifiedNode(\"c\")\n",
    "c.parent = a"
   ]
  },
  {
   "cell_type": "code",
   "execution_count": 26,
   "metadata": {},
   "outputs": [
    {
     "name": "stdout",
     "output_type": "stream",
     "text": [
      "('_pre_detach', NotifiedNode('/a'))\n",
      "('_post_detach', NotifiedNode('/a'))\n",
      "('_pre_attach', NotifiedNode('/b'))\n",
      "('_post_attach', NotifiedNode('/b'))\n"
     ]
    }
   ],
   "source": [
    "#Notification on change:\n",
    "c.parent = b"
   ]
  },
  {
   "cell_type": "code",
   "execution_count": 29,
   "metadata": {},
   "outputs": [],
   "source": [
    "#If the parent equals the old value, the notification is not triggered:\n",
    "c.parent = a"
   ]
  },
  {
   "cell_type": "code",
   "execution_count": 30,
   "metadata": {},
   "outputs": [
    {
     "name": "stdout",
     "output_type": "stream",
     "text": [
      "('_pre_detach', NotifiedNode('/a'))\n",
      "('_post_detach', NotifiedNode('/a'))\n"
     ]
    }
   ],
   "source": [
    "#Notification on detach:\n",
    "c.parent = None"
   ]
  },
  {
   "cell_type": "code",
   "execution_count": 31,
   "metadata": {},
   "outputs": [],
   "source": [
    "#Custom Separator\n",
    "class MyNode(Node):\n",
    "    separator = \"|\""
   ]
  },
  {
   "cell_type": "code",
   "execution_count": 32,
   "metadata": {},
   "outputs": [
    {
     "name": "stdout",
     "output_type": "stream",
     "text": [
      "MyNode('|Udo')\n",
      "├── MyNode('|Udo|Dan')\n",
      "└── MyNode('|Udo|Marc')\n"
     ]
    }
   ],
   "source": [
    "udo = MyNode(\"Udo\")\n",
    "dan = MyNode(\"Dan\", parent=udo)\n",
    "marc = MyNode(\"Marc\", parent=udo)\n",
    "print(RenderTree(udo))"
   ]
  },
  {
   "cell_type": "code",
   "execution_count": 33,
   "metadata": {},
   "outputs": [
    {
     "data": {
      "text/plain": [
       "[MyNode('|Udo|Dan'), MyNode('|Udo|Marc')]"
      ]
     },
     "execution_count": 33,
     "metadata": {},
     "output_type": "execute_result"
    }
   ],
   "source": [
    "#The resolver takes the custom separator also into account:\n",
    "from anytree import Resolver\n",
    "r = Resolver()\n",
    "r.glob(udo, \"|Udo|*\")"
   ]
  },
  {
   "cell_type": "code",
   "execution_count": null,
   "metadata": {},
   "outputs": [],
   "source": []
  }
 ],
 "metadata": {
  "kernelspec": {
   "display_name": "Python 2",
   "language": "python",
   "name": "python2"
  },
  "language_info": {
   "codemirror_mode": {
    "name": "ipython",
    "version": 2
   },
   "file_extension": ".py",
   "mimetype": "text/x-python",
   "name": "python",
   "nbconvert_exporter": "python",
   "pygments_lexer": "ipython2",
   "version": "2.7.15"
  }
 },
 "nbformat": 4,
 "nbformat_minor": 2
}

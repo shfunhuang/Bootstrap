{
 "cells": [
  {
   "cell_type": "code",
   "execution_count": 2,
   "metadata": {},
   "outputs": [
    {
     "name": "stdout",
     "output_type": "stream",
     "text": [
      "https://leetcode.com/problems/robot-return-to-origin/\n"
     ]
    }
   ],
   "source": [
    "print 'https://leetcode.com/problems/robot-return-to-origin/'"
   ]
  },
  {
   "cell_type": "code",
   "execution_count": 3,
   "metadata": {},
   "outputs": [
    {
     "name": "stdout",
     "output_type": "stream",
     "text": [
      "L\n"
     ]
    }
   ],
   "source": [
    "import string\n",
    "import random\n",
    "\n",
    "moves = ['R', 'L', 'U', 'D']\n",
    "print random.choice(moves)"
   ]
  },
  {
   "cell_type": "code",
   "execution_count": 43,
   "metadata": {},
   "outputs": [
    {
     "name": "stdout",
     "output_type": "stream",
     "text": [
      "4\n",
      "['L', 'R', 'D', 'D', 'D']\n",
      "set([('L', 1), ('R', 1), ('D', 3)])\n",
      "{'R': '1', 'U': 0, 'L': '1', 'D': '3'}\n",
      "true\n"
     ]
    }
   ],
   "source": [
    "d = []\n",
    "cnt = ()\n",
    "\n",
    "step = 3\n",
    "step = step if(step > 0) else 2\n",
    "step = step if(step%2==0) else step+1\n",
    "print step\n",
    "\n",
    "for i in range(step+1):\n",
    "    d.append(random.choice(moves))\n",
    "\n",
    "print d\n",
    "\n",
    "cnt = set(zip(d, [d.count(i) for i in d]))\n",
    "print cnt\n",
    "\n",
    "result = {'R':'', 'L':'', 'U':'', 'D':''}\n",
    "\n",
    "#handle none values in list\n",
    "result['R'] = ''.join([str(i[1]) for i in cnt if(i[0] == 'R')]) if (len([i[1] for i in cnt if(i[0] == 'R')]) > 0) else 0\n",
    "result['L'] = ''.join([str(i[1]) for i in cnt if(i[0] == 'L')]) if (len([i[1] for i in cnt if(i[0] == 'L')]) > 0) else 0\n",
    "result['U'] = ''.join([str(i[1]) for i in cnt if(i[0] == 'U')]) if (len([i[1] for i in cnt if(i[0] == 'U')]) > 0) else 0\n",
    "result['D'] = ''.join([str(i[1]) for i in cnt if(i[0] == 'D')]) if (len([i[1] for i in cnt if(i[0] == 'D')]) > 0) else 0\n",
    "\n",
    "print result\n",
    "\n",
    "if(int(result['R']) - int(result['L']) == 0  and int(result['R']) - int(result['L']) == 0 ):\n",
    "    print 'true'\n",
    "else:\n",
    "    print 'false'"
   ]
  },
  {
   "cell_type": "code",
   "execution_count": 63,
   "metadata": {},
   "outputs": [
    {
     "name": "stdout",
     "output_type": "stream",
     "text": [
      "{'false': 8, 'true': 2}\n"
     ]
    }
   ],
   "source": [
    "k = 0\n",
    "count = 10\n",
    "simulation = {'true':0, 'false':0}\n",
    "\n",
    "while(k < count):\n",
    "\n",
    "    d = []\n",
    "    cnt = ()\n",
    "\n",
    "\n",
    "    step = 3\n",
    "    step = step if(step > 0) else 2\n",
    "    step = step if(step%2==0) else step+1\n",
    "    #print step\n",
    "\n",
    "    for i in range(step+1):\n",
    "        d.append(random.choice(moves))\n",
    "\n",
    "    #print d\n",
    "\n",
    "    cnt = set(zip(d, [d.count(i) for i in d]))\n",
    "    #print cnt\n",
    "\n",
    "    result = {'R':'', 'L':'', 'U':'', 'D':''}\n",
    "\n",
    "    #handle none values in list\n",
    "    result['R'] = ''.join([str(i[1]) for i in cnt if(i[0] == 'R')]) if (len([i[1] for i in cnt if(i[0] == 'R')]) > 0) else 0\n",
    "    result['L'] = ''.join([str(i[1]) for i in cnt if(i[0] == 'L')]) if (len([i[1] for i in cnt if(i[0] == 'L')]) > 0) else 0\n",
    "    result['U'] = ''.join([str(i[1]) for i in cnt if(i[0] == 'U')]) if (len([i[1] for i in cnt if(i[0] == 'U')]) > 0) else 0\n",
    "    result['D'] = ''.join([str(i[1]) for i in cnt if(i[0] == 'D')]) if (len([i[1] for i in cnt if(i[0] == 'D')]) > 0) else 0\n",
    "\n",
    "    #print result\n",
    "\n",
    "    if(int(result['R']) - int(result['L']) == 0  and int(result['R']) - int(result['L']) == 0 ):\n",
    "        simulation['true'] += 1\n",
    "\n",
    "    else:\n",
    "        simulation['false'] += 1\n",
    "        \n",
    "    k = k + 1\n",
    "    if(k == count):\n",
    "        break\n",
    "\n",
    "print simulation"
   ]
  },
  {
   "cell_type": "code",
   "execution_count": 60,
   "metadata": {},
   "outputs": [],
   "source": [
    "class Solution(object):\n",
    "    def judgeCircle(self, moves, step, count):\n",
    "        \"\"\"\n",
    "        :type moves: str\n",
    "        :rtype: bool\n",
    "        \"\"\"\n",
    "        k = 0\n",
    "        #count = int(count)\n",
    "        simulation = {'true':0, 'false':0}\n",
    "\n",
    "        while(k < count):\n",
    "\n",
    "            d = []\n",
    "            cnt = ()\n",
    "\n",
    "            #step = int(step)\n",
    "            step = step if(step > 0) else 2\n",
    "            step = step if(step%2==0) else step+1\n",
    "            result = {'R':'', 'L':'', 'U':'', 'D':''}\n",
    "\n",
    "            for i in range(step+1):\n",
    "                d.append(random.choice(moves))\n",
    "\n",
    "            cnt = set(zip(d, [d.count(i) for i in d]))\n",
    "\n",
    "            #handle none values in list\n",
    "            result['R'] = ''.join([str(i[1]) for i in cnt if(i[0] == 'R')]) if (len([i[1] for i in cnt if(i[0] == 'R')]) > 0) else 0\n",
    "            result['L'] = ''.join([str(i[1]) for i in cnt if(i[0] == 'L')]) if (len([i[1] for i in cnt if(i[0] == 'L')]) > 0) else 0\n",
    "            result['U'] = ''.join([str(i[1]) for i in cnt if(i[0] == 'U')]) if (len([i[1] for i in cnt if(i[0] == 'U')]) > 0) else 0\n",
    "            result['D'] = ''.join([str(i[1]) for i in cnt if(i[0] == 'D')]) if (len([i[1] for i in cnt if(i[0] == 'D')]) > 0) else 0\n",
    "\n",
    "\n",
    "            if(int(result['R']) - int(result['L']) == 0  and int(result['R']) - int(result['L']) == 0 ):\n",
    "                simulation['true'] += 1\n",
    "\n",
    "            else:\n",
    "                simulation['false'] += 1\n",
    "        \n",
    "            k = k + 1\n",
    "            if(k == count):\n",
    "                break\n",
    "\n",
    "        return simulation\n"
   ]
  },
  {
   "cell_type": "code",
   "execution_count": 67,
   "metadata": {},
   "outputs": [
    {
     "data": {
      "text/plain": [
       "{'false': 89, 'true': 11}"
      ]
     },
     "execution_count": 67,
     "metadata": {},
     "output_type": "execute_result"
    }
   ],
   "source": [
    "s = Solution()\n",
    "moves = ['R', 'L', 'U', 'D']\n",
    "step= 10\n",
    "count = 100\n",
    "s.judgeCircle(moves, step, count)"
   ]
  },
  {
   "cell_type": "code",
   "execution_count": null,
   "metadata": {},
   "outputs": [],
   "source": []
  }
 ],
 "metadata": {
  "kernelspec": {
   "display_name": "Python 2",
   "language": "python",
   "name": "python2"
  },
  "language_info": {
   "codemirror_mode": {
    "name": "ipython",
    "version": 2
   },
   "file_extension": ".py",
   "mimetype": "text/x-python",
   "name": "python",
   "nbconvert_exporter": "python",
   "pygments_lexer": "ipython2",
   "version": "2.7.15"
  }
 },
 "nbformat": 4,
 "nbformat_minor": 2
}

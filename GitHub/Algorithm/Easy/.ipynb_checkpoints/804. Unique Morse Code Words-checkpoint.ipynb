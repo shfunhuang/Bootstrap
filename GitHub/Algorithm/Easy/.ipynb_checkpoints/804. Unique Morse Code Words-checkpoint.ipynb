{
 "cells": [
  {
   "cell_type": "code",
   "execution_count": 1,
   "metadata": {},
   "outputs": [
    {
     "name": "stdout",
     "output_type": "stream",
     "text": [
      "https://leetcode.com/problems/unique-morse-code-words/\n"
     ]
    }
   ],
   "source": [
    "print 'https://leetcode.com/problems/unique-morse-code-words/'"
   ]
  },
  {
   "cell_type": "code",
   "execution_count": 1,
   "metadata": {},
   "outputs": [
    {
     "name": "stdout",
     "output_type": "stream",
     "text": [
      "['.-', '-...', '-.-.', '-..', '.', '..-.', '--.', '....', '..', '.---', '-.-', '.-..', '--', '-.', '---', '.--.', '--.-', '.-.', '...', '-', '..-', '...-', '.--', '-..-', '-.--', '--..', '.......']\n"
     ]
    }
   ],
   "source": [
    "morseCode = [\".-\",\"-...\",\"-.-.\",\"-..\",\".\",\"..-.\",\"--.\",\"....\",\"..\",\".---\",\"-.-\",\".-..\",\"--\",\"-.\",\"---\",\".--.\",\"--.-\",\".-.\",\"...\",\"-\",\"..-\",\"...-\",\".--\",\"-..-\",\"-.--\",\"--..\",\".......\"]\n",
    "print morseCode"
   ]
  },
  {
   "cell_type": "code",
   "execution_count": 2,
   "metadata": {},
   "outputs": [
    {
     "name": "stdout",
     "output_type": "stream",
     "text": [
      "abcdefghijklmnopqrstuvwxyz*\n",
      "n\n"
     ]
    }
   ],
   "source": [
    "import string\n",
    "import random\n",
    "lowerCase = string.ascii_lowercase + '*' #star symbol for space \n",
    "print lowerCase\n",
    "print random.choice(lowerCase)"
   ]
  },
  {
   "cell_type": "code",
   "execution_count": 71,
   "metadata": {},
   "outputs": [
    {
     "name": "stdout",
     "output_type": "stream",
     "text": [
      "{'*': '.......', 'a': '.-', 'c': '-.-.', 'b': '-...', 'e': '.', 'd': '-..', 'g': '--.', 'f': '..-.', 'i': '..', 'h': '....', 'k': '-.-', 'j': '.---', 'm': '--', 'l': '.-..', 'o': '---', 'n': '-.', 'q': '--.-', 'p': '.--.', 's': '...', 'r': '.-.', 'u': '..-', 't': '-', 'w': '.--', 'v': '...-', 'y': '-.--', 'x': '-..-', 'z': '--..'}\n"
     ]
    }
   ],
   "source": [
    "morseCodeMapping = {}\n",
    "for i in range(len(lowerCase)):\n",
    "    morseCodeMapping[lowerCase[i]] = morseCode[i]\n",
    "    #print lowerCase[i], morseCode[i]\n",
    "\n",
    "print morseCodeMapping"
   ]
  },
  {
   "cell_type": "code",
   "execution_count": 39,
   "metadata": {},
   "outputs": [
    {
     "name": "stdout",
     "output_type": "stream",
     "text": [
      "{'*': ['.-', '-...', '-.-.', '-..', '.', '..-.', '--.', '....', '..', '.---', '-.-', '.-..', '--', '-.', '---', '.--.', '--.-', '.-.', '...', '-', '..-', '...-', '.--', '-..-', '-.--', '--..', '.......']}\n"
     ]
    }
   ],
   "source": [
    "morseCodeMapping = {}\n",
    "morseCodeMapping[lowerCase[i]] = [morseCode[i] for i in range(len(lowerCase))]\n",
    "print morseCodeMapping"
   ]
  },
  {
   "cell_type": "code",
   "execution_count": 72,
   "metadata": {},
   "outputs": [
    {
     "name": "stdout",
     "output_type": "stream",
     "text": [
      "['shfunhuang', 'mad*max*fury*road']\n",
      "s\n"
     ]
    }
   ],
   "source": [
    "words = ['shfunhuang', 'mad max fury road']\n",
    "words = [i.lower().replace(' ', '*') for i in words]\n",
    "print words\n",
    "print words[0][0]"
   ]
  },
  {
   "cell_type": "code",
   "execution_count": 75,
   "metadata": {},
   "outputs": [
    {
     "name": "stdout",
     "output_type": "stream",
     "text": [
      "shfunhuang\n",
      "mad max fury road\n"
     ]
    },
    {
     "data": {
      "text/plain": [
       "{'mad max fury road': '--.--.........--.--..-.........-...-.-.-.--........-.---.--..',\n",
       " 'shfunhuang': '.........-...--.......-.--.--.'}"
      ]
     },
     "execution_count": 75,
     "metadata": {},
     "output_type": "execute_result"
    }
   ],
   "source": [
    "result = {}\n",
    "for i, word in enumerate(words):\n",
    "    temp = ''\n",
    "    for c in word:\n",
    "        #temp += c + morseCodeMapping[c]\n",
    "        temp += morseCodeMapping[c]\n",
    "    #print temp\n",
    "    print word.replace('*', ' ')\n",
    "    result[word.replace('*', ' ')] = temp\n",
    "\n",
    "result\n"
   ]
  },
  {
   "cell_type": "code",
   "execution_count": 76,
   "metadata": {},
   "outputs": [],
   "source": [
    "class Solution(object):\n",
    "    def uniqueMorseRepresentations(self, words):\n",
    "        \"\"\"\n",
    "        :type words: List[str]\n",
    "        :rtype: int\n",
    "        \"\"\"\n",
    "        import string\n",
    "        import random\n",
    "\n",
    "        words = [i.lower().replace(' ', '*') for i in words]\n",
    "        lowerCase = string.ascii_lowercase + '*' #star symbol for space \n",
    "        for i in range(len(lowerCase)):\n",
    "            morseCodeMapping[lowerCase[i]] = morseCode[i]\n",
    "\n",
    "        result = {}\n",
    "        for i, word in enumerate(words):\n",
    "            temp = ''\n",
    "            for c in word:\n",
    "            #temp += c + morseCodeMapping[c]\n",
    "                temp += morseCodeMapping[c]\n",
    "            #print temp\n",
    "            result[word.replace('*', ' ')] = temp\n",
    "\n",
    "        return result"
   ]
  },
  {
   "cell_type": "code",
   "execution_count": 77,
   "metadata": {},
   "outputs": [
    {
     "data": {
      "text/plain": [
       "{'hi i am shfun': '.......................---................-...--.',\n",
       " 'shfunhuang': '.........-...--.......-.--.--.'}"
      ]
     },
     "execution_count": 77,
     "metadata": {},
     "output_type": "execute_result"
    }
   ],
   "source": [
    "s = Solution()\n",
    "words = ['shfunhuang', 'hi i am shfunhuang']\n",
    "s.uniqueMorseRepresentations(words)"
   ]
  },
  {
   "cell_type": "code",
   "execution_count": null,
   "metadata": {},
   "outputs": [],
   "source": []
  }
 ],
 "metadata": {
  "kernelspec": {
   "display_name": "Python 2",
   "language": "python",
   "name": "python2"
  },
  "language_info": {
   "codemirror_mode": {
    "name": "ipython",
    "version": 2
   },
   "file_extension": ".py",
   "mimetype": "text/x-python",
   "name": "python",
   "nbconvert_exporter": "python",
   "pygments_lexer": "ipython2",
   "version": "2.7.15"
  }
 },
 "nbformat": 4,
 "nbformat_minor": 2
}

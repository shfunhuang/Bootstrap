{
 "cells": [
  {
   "cell_type": "code",
   "execution_count": 20,
   "metadata": {},
   "outputs": [
    {
     "name": "stdout",
     "output_type": "stream",
     "text": [
      "https://leetcode.com/problems/jewels-and-stones/description/\n"
     ]
    }
   ],
   "source": [
    "print 'https://leetcode.com/problems/jewels-and-stones/description/'"
   ]
  },
  {
   "cell_type": "code",
   "execution_count": 21,
   "metadata": {},
   "outputs": [
    {
     "name": "stdout",
     "output_type": "stream",
     "text": [
      "{'a': 1, 'A': 1}\n",
      "{'a': 1, 'A': 2, 'b': 4}\n",
      "set(['a', 'A'])\n"
     ]
    },
    {
     "data": {
      "text/plain": [
       "3"
      ]
     },
     "execution_count": 21,
     "metadata": {},
     "output_type": "execute_result"
    }
   ],
   "source": [
    "J = 'aA'\n",
    "S = 'aAAbbbb'\n",
    "\n",
    "remain, remain2 = {}, {} #save each jewels and stones count \n",
    "\n",
    "for ch in J:\n",
    "    if ch in remain:\n",
    "        remain[ch] += 1\n",
    "    else:\n",
    "        remain[ch] = 1\n",
    "\n",
    "print remain\n",
    "\n",
    "for ch in S:\n",
    "    if ch in remain2:\n",
    "        remain2[ch] += 1\n",
    "    else:\n",
    "        remain2[ch] =1\n",
    "\n",
    "print remain2        \n",
    "\n",
    "js = set(remain.keys())\n",
    "ss = set(remain2.keys())\n",
    "\n",
    "intersect_keys = js.intersection(ss)\n",
    "print intersect_keys\n",
    "sum([remain2.get(i) for i in intersect_keys])"
   ]
  },
  {
   "cell_type": "code",
   "execution_count": 22,
   "metadata": {},
   "outputs": [],
   "source": [
    "class Solution(object):\n",
    "    def numJewelsInStones(self, J, S):\n",
    "        \"\"\"\n",
    "        :type J: str\n",
    "        :type S: str\n",
    "        :rtype: int\n",
    "        \"\"\"\n",
    "        \n",
    "        #J = 'aA'\n",
    "        #S = 'aAAbbbb'\n",
    "\n",
    "        remain, remain2 = {}, {}\n",
    "\n",
    "        for ch in J:\n",
    "            if ch in remain:\n",
    "                remain[ch] += 1\n",
    "            else:\n",
    "                remain[ch] = 1\n",
    "        \n",
    "        for ch in S:\n",
    "            if ch in remain2:\n",
    "                remain2[ch] += 1\n",
    "            else:\n",
    "                remain2[ch] =1\n",
    "        \n",
    "        js = set(remain.keys())\n",
    "        ss = set(remain2.keys())\n",
    "\n",
    "        intersect_keys = js.intersection(ss)\n",
    "        #print intersect_keys\n",
    "        return sum([remain2.get(i) for i in intersect_keys])\n",
    "        "
   ]
  },
  {
   "cell_type": "code",
   "execution_count": 23,
   "metadata": {},
   "outputs": [
    {
     "data": {
      "text/plain": [
       "3"
      ]
     },
     "execution_count": 23,
     "metadata": {},
     "output_type": "execute_result"
    }
   ],
   "source": [
    "s = Solution()\n",
    "s.numJewelsInStones(J = 'aAA', S = 'aAAbbb')"
   ]
  },
  {
   "cell_type": "code",
   "execution_count": null,
   "metadata": {},
   "outputs": [],
   "source": []
  }
 ],
 "metadata": {
  "kernelspec": {
   "display_name": "Python 2",
   "language": "python",
   "name": "python2"
  },
  "language_info": {
   "codemirror_mode": {
    "name": "ipython",
    "version": 2
   },
   "file_extension": ".py",
   "mimetype": "text/x-python",
   "name": "python",
   "nbconvert_exporter": "python",
   "pygments_lexer": "ipython2",
   "version": "2.7.15"
  }
 },
 "nbformat": 4,
 "nbformat_minor": 2
}

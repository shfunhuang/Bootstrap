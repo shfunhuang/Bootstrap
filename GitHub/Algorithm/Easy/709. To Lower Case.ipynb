{
 "cells": [
  {
   "cell_type": "code",
   "execution_count": 2,
   "metadata": {},
   "outputs": [
    {
     "name": "stdout",
     "output_type": "stream",
     "text": [
      "https://leetcode.com/problems/to-lower-case/\n"
     ]
    }
   ],
   "source": [
    "print 'https://leetcode.com/problems/to-lower-case/'"
   ]
  },
  {
   "cell_type": "code",
   "execution_count": 6,
   "metadata": {},
   "outputs": [
    {
     "name": "stdout",
     "output_type": "stream",
     "text": [
      "{'A': 'a', 'C': 'c', 'B': 'b', 'E': 'e', 'D': 'd', 'G': 'g', 'F': 'f', 'I': 'i', 'H': 'h', 'K': 'k', 'J': 'j', 'M': 'm', 'L': 'l', 'O': 'o', 'N': 'n', 'Q': 'q', 'P': 'p', 'S': 's', 'R': 'r', 'U': 'u', 'T': 't', 'W': 'w', 'V': 'v', 'Y': 'y', 'X': 'x', 'Z': 'z'}\n"
     ]
    }
   ],
   "source": [
    "Upercase = \"ABCDEFGHIJKLMNOPQRSTUVWXYZ\"\n",
    "Lowercase = \"abcdefghijklmnopqrstuvwxyz\"\n",
    "lettersMaping = dict(zip(Upercase, Lowercase))\n",
    "print lettersMaping"
   ]
  },
  {
   "cell_type": "code",
   "execution_count": 13,
   "metadata": {},
   "outputs": [
    {
     "name": "stdout",
     "output_type": "stream",
     "text": [
      "aabbccddeeffgghhiijjkkll\n"
     ]
    }
   ],
   "source": [
    "LowerStr = ''\n",
    "string = 'AaBbCcDdEeFfGgHhIiJjKkLl'\n",
    "for ch in string:\n",
    "    if ch in lettersMaping.keys():\n",
    "        LowerStr += lettersMaping[ch]\n",
    "    else:\n",
    "        LowerStr += ch\n",
    "print LowerStr"
   ]
  },
  {
   "cell_type": "code",
   "execution_count": 27,
   "metadata": {},
   "outputs": [
    {
     "name": "stdout",
     "output_type": "stream",
     "text": [
      "aabbccddeeffgghhiijjkkll\n"
     ]
    }
   ],
   "source": [
    "LowerStr = ''\n",
    "for ch in string:\n",
    "    LowerStr += lettersMaping[ch] if ch in lettersMaping.keys() else ch\n",
    "print LowerStr"
   ]
  },
  {
   "cell_type": "code",
   "execution_count": 28,
   "metadata": {},
   "outputs": [],
   "source": [
    "class Solution:\n",
    "    def toLowerCase(self, string):\n",
    "        \"\"\"\n",
    "        :type str: str\n",
    "        :rtype: str\n",
    "        \"\"\"\n",
    "        Upercase = \"ABCDEFGHIJKLMNOPQRSTUVWXYZ\"\n",
    "        Lowercase = \"abcdefghijklmnopqrstuvwxyz\"\n",
    "\n",
    "        lettersMaping = dict(zip(Upercase, Lowercase))\n",
    "\n",
    "        LowerStr = ''\n",
    "        for ch in string:\n",
    "            LowerStr += lettersMaping[ch] if ch in lettersMaping.keys() else ch\n",
    "\n",
    "            #if ch in lettersMaping.keys():\n",
    "            #    LowerStr += lettersMaping[ch]\n",
    "            #else:\n",
    "            #    LowerStr += ch\n",
    "\n",
    "        return LowerStr\n"
   ]
  },
  {
   "cell_type": "code",
   "execution_count": 29,
   "metadata": {},
   "outputs": [
    {
     "data": {
      "text/plain": [
       "'aabbccddeeffgghhiijjkkll'"
      ]
     },
     "execution_count": 29,
     "metadata": {},
     "output_type": "execute_result"
    }
   ],
   "source": [
    "s = Solution()\n",
    "string = 'AaBbCcDdEeFfGgHhIiJjKkLl'\n",
    "s.toLowerCase(string)"
   ]
  },
  {
   "cell_type": "code",
   "execution_count": null,
   "metadata": {},
   "outputs": [],
   "source": []
  }
 ],
 "metadata": {
  "kernelspec": {
   "display_name": "Python 2",
   "language": "python",
   "name": "python2"
  },
  "language_info": {
   "codemirror_mode": {
    "name": "ipython",
    "version": 2
   },
   "file_extension": ".py",
   "mimetype": "text/x-python",
   "name": "python",
   "nbconvert_exporter": "python",
   "pygments_lexer": "ipython2",
   "version": "2.7.15"
  }
 },
 "nbformat": 4,
 "nbformat_minor": 2
}

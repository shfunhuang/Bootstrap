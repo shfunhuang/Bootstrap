{
 "cells": [
  {
   "cell_type": "code",
   "execution_count": 1,
   "metadata": {},
   "outputs": [
    {
     "name": "stdout",
     "output_type": "stream",
     "text": [
      "C:\\Users\\shfun\\GitHub\n"
     ]
    }
   ],
   "source": [
    "import numpy as np\n",
    "import pandas as pd\n",
    "import os\n",
    "print os.getcwd()"
   ]
  },
  {
   "cell_type": "code",
   "execution_count": 60,
   "metadata": {},
   "outputs": [
    {
     "data": {
      "text/html": [
       "<div>\n",
       "<style scoped>\n",
       "    .dataframe tbody tr th:only-of-type {\n",
       "        vertical-align: middle;\n",
       "    }\n",
       "\n",
       "    .dataframe tbody tr th {\n",
       "        vertical-align: top;\n",
       "    }\n",
       "\n",
       "    .dataframe thead th {\n",
       "        text-align: right;\n",
       "    }\n",
       "</style>\n",
       "<table border=\"1\" class=\"dataframe\">\n",
       "  <thead>\n",
       "    <tr style=\"text-align: right;\">\n",
       "      <th></th>\n",
       "      <th>MemberName</th>\n",
       "      <th>Gender</th>\n",
       "    </tr>\n",
       "  </thead>\n",
       "  <tbody>\n",
       "    <tr>\n",
       "      <th>7</th>\n",
       "      <td>Harvey Huang</td>\n",
       "      <td>M</td>\n",
       "    </tr>\n",
       "    <tr>\n",
       "      <th>1</th>\n",
       "      <td>Amy Ma</td>\n",
       "      <td>F</td>\n",
       "    </tr>\n",
       "  </tbody>\n",
       "</table>\n",
       "</div>"
      ],
      "text/plain": [
       "     MemberName Gender\n",
       "7  Harvey Huang      M\n",
       "1        Amy Ma      F"
      ]
     },
     "execution_count": 60,
     "metadata": {},
     "output_type": "execute_result"
    }
   ],
   "source": [
    "import xlrd\n",
    "filename = 'data/member.xlsx'\n",
    "dfs = pd.read_excel(filename)\n",
    "dfs.sample(2)"
   ]
  },
  {
   "cell_type": "code",
   "execution_count": 21,
   "metadata": {},
   "outputs": [],
   "source": [
    "def samplingStrongMember(gender, sample, filename):\n",
    "    import numpy as np\n",
    "    import pandas as pd\n",
    "    import xlrd\n",
    "        \n",
    "    team_member = pd.read_excel(filename)\n",
    "    #team_member_pd = pd.DataFrame([sub.split(',') for sub in team_member]) #already df type\n",
    "    team_member_pd = team_member\n",
    "    team_member_pd.columns= ['MemberName', 'Gender']\n",
    "\n",
    "    memberCnt = team_member_pd.shape[0]\n",
    "    team_member_pd['randNumCol'] = np.random.choice(memberCnt, memberCnt, replace=False)\n",
    "\n",
    "    return team_member_pd, team_member_pd[team_member_pd['Gender'] == gender].sort_values(by = 'randNumCol')[:int(sample)]"
   ]
  },
  {
   "cell_type": "code",
   "execution_count": 6,
   "metadata": {},
   "outputs": [],
   "source": [
    "class Sampling(object):\n",
    "\n",
    "    def samplingStrongMember(self, gender, sample, filename):\n",
    "        import numpy as np\n",
    "        import pandas as pd\n",
    "        import xlrd\n",
    "        \n",
    "        team_member = pd.read_excel(filename)\n",
    "        #team_member_pd = pd.DataFrame([sub.split(',') for sub in team_member]) #already df type\n",
    "        team_member_pd = team_member\n",
    "        team_member_pd.columns= ['MemberName', 'Gender']\n",
    "\n",
    "        memberCnt = team_member_pd.shape[0]\n",
    "        team_member_pd['randNumCol'] = np.random.choice(memberCnt, memberCnt, replace=False)\n",
    "\n",
    "        return team_member_pd, team_member_pd[team_member_pd['Gender'] == gender].sort_values(by = 'randNumCol')[:int(sample)]\n"
   ]
  },
  {
   "cell_type": "code",
   "execution_count": 8,
   "metadata": {},
   "outputs": [
    {
     "name": "stdout",
     "output_type": "stream",
     "text": [
      "C:\\Users\\shfun\\GitHub\n"
     ]
    },
    {
     "data": {
      "text/html": [
       "<div>\n",
       "<style scoped>\n",
       "    .dataframe tbody tr th:only-of-type {\n",
       "        vertical-align: middle;\n",
       "    }\n",
       "\n",
       "    .dataframe tbody tr th {\n",
       "        vertical-align: top;\n",
       "    }\n",
       "\n",
       "    .dataframe thead th {\n",
       "        text-align: right;\n",
       "    }\n",
       "</style>\n",
       "<table border=\"1\" class=\"dataframe\">\n",
       "  <thead>\n",
       "    <tr style=\"text-align: right;\">\n",
       "      <th></th>\n",
       "      <th>MemberName</th>\n",
       "      <th>Gender</th>\n",
       "      <th>ResultCnt</th>\n",
       "    </tr>\n",
       "  </thead>\n",
       "  <tbody>\n",
       "    <tr>\n",
       "      <th>7</th>\n",
       "      <td>Harvey Huang</td>\n",
       "      <td>M</td>\n",
       "      <td>248</td>\n",
       "    </tr>\n",
       "    <tr>\n",
       "      <th>3</th>\n",
       "      <td>Bryan Shen</td>\n",
       "      <td>M</td>\n",
       "      <td>241</td>\n",
       "    </tr>\n",
       "  </tbody>\n",
       "</table>\n",
       "</div>"
      ],
      "text/plain": [
       "     MemberName Gender  ResultCnt\n",
       "7  Harvey Huang      M        248\n",
       "3    Bryan Shen      M        241"
      ]
     },
     "execution_count": 8,
     "metadata": {},
     "output_type": "execute_result"
    }
   ],
   "source": [
    "import os\n",
    "print os.getcwd()\n",
    "\n",
    "'''\n",
    "從 member.xlsx 隨機抽取 sample人 共iteration次，\n",
    "取被抽到最多次的前sample人的，可調整顯示show筆\n",
    "'''\n",
    "\n",
    "s = Sampling()\n",
    "\n",
    "k = 0\n",
    "iteration = 1000\n",
    "\n",
    "gender = 'M'\n",
    "sample = '2'\n",
    "show = '2'\n",
    "filename = 'data/member.xlsx'\n",
    "\n",
    "teamMemberInfo = s.samplingStrongMember(gender, sample, filename)[0]\n",
    "teamMemberInfo['ResultCnt'] = 0\n",
    "teamMemberInfo = teamMemberInfo[['MemberName', 'Gender', 'ResultCnt']].to_dict('records')\n",
    "\n",
    "while(k < iteration):\n",
    "\n",
    "    # sample loop start\n",
    "    strongMemberResult = s.samplingStrongMember(gender, sample, filename)[1]\n",
    "\n",
    "    for i in strongMemberResult['MemberName'].tolist():\n",
    "        for j in range(len(teamMemberInfo)):\n",
    "            if(i == teamMemberInfo[j]['MemberName']):\n",
    "                teamMemberInfo[j]['ResultCnt'] = teamMemberInfo[j]['ResultCnt'] + 1\n",
    "    # sample loop end\n",
    "\n",
    "    k = k+1\n",
    "    if(k == iteration):\n",
    "        break\n",
    "\n",
    "teamMemberInfo = pd.DataFrame(teamMemberInfo)[['MemberName', 'Gender', 'ResultCnt']]\n",
    "teamMemberInfo[teamMemberInfo['Gender'] == gender].sort_values(by = 'ResultCnt', ascending=False)[:int(show)]\n"
   ]
  },
  {
   "cell_type": "code",
   "execution_count": null,
   "metadata": {
    "collapsed": true
   },
   "outputs": [],
   "source": []
  }
 ],
 "metadata": {
  "kernelspec": {
   "display_name": "Python 2",
   "language": "python",
   "name": "python2"
  },
  "language_info": {
   "codemirror_mode": {
    "name": "ipython",
    "version": 2
   },
   "file_extension": ".py",
   "mimetype": "text/x-python",
   "name": "python",
   "nbconvert_exporter": "python",
   "pygments_lexer": "ipython2",
   "version": "2.7.15"
  }
 },
 "nbformat": 4,
 "nbformat_minor": 2
}
